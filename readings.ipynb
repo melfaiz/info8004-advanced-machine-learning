{
 "cells": [
  {
   "cell_type": "code",
   "execution_count": 14,
   "metadata": {},
   "outputs": [],
   "source": [
    "papers = [\n",
    "'AM Saxe et al, \"On the Information Bottleneck Theory of Deep Learning\", 2018.',\n",
    "'Tero Karras et al, \"Analyzing and Improving the Image Quality of StyleGAN\", 2019.',\n",
    "'LG Valiant, \"A theory of the learnable\", 1984.',\n",
    "'Breiman, \"Statistical modeling: the Two Cultures\", 2001.',\n",
    "'Bobak Shahriari et al, \"Taking the human out of the loop bayesian optimization\", 2016.',\n",
    "'Tianqi Chen et al. \"XGBoost: a scalable Tree Boosting System\", 2016.',\n",
    "'Balaji Lakshminarayanan et al., \"Mondrian forests: efficient online random forests\", 2014.',\n",
    "'Chen et al, \"Neural Ordinary Differential Equations\", 2018.',\n",
    "'Louizos et al, \"The Functional Neural Process\", 2019.',\n",
    "'Kosiorek et al, \"Stacked Capsule Autoencoders\", 2019.',\n",
    "'Xie et al, \"Self-training with Noisy Student improves ImageNet classification\", 2019.',\n",
    "'Papamakarios et al, \"Sequential Neural Likelihood: Fast Likelihood-free Inference with Autoregressive Flows\", 2018.',\n",
    "'Adiwardana et al, \"Towards a Human-like Open-Domain Chatbot\", 2020.',\n",
    "'Yu et al, \"Playing the lottery with rewards and multiple languages: lottery tickets in RL and NLP\", 2019.',\n",
    "'Jaderberg et al, \"Human-level performance in 3D multiplayer games with population-based reinforcement learning\", 2019.',\n",
    "'Hendrycks, D., & Gimpel, K., \"A baseline for detecting misclassified and out-of-distribution examples in neural networks\", 2017.',\n",
    "'Liang, S., Li, Y., & Srikant, R, \"Enhancing the reliability of out-of-distribution image detection in neural networks\", 2018.',\n",
    "'Lipton, \"The Mythos of Model Interpretability\", 2016.',\n",
    "'Scholkopf, \"Causality for Machine Learning\", 2019.',\n",
    "'Sturmfels et al, \"Visualizing the Impact of Feature Attribution Baselines\", 2020.',\n",
    "'Carter et al, \"Exploring Neural Networks with Activation Atlases\", 2019.',\n",
    "'Bengio et al, \"A Meta-Transfer Objective for Learning to Disentangle Causal Mechanisms\", 2019',\n",
    "]"
   ]
  },
  {
   "cell_type": "code",
   "execution_count": 15,
   "metadata": {},
   "outputs": [],
   "source": [
    "groups = [\n",
    "'Robin Libert, Champagne Loïc',\n",
    "'Benjamin Delvoye, Joachim Paquay',\n",
    "'Nora Folon, Arian Tahiraj',\n",
    "'Yann Claes, Gaspard Lambrechts',\n",
    "'Bardhyl Miftari, Philippe Schneider',\n",
    "'Mohamed EL Faiz, Robin Paul Römer',\n",
    "'Bilel Guetarni, Nicolas Thou',\n",
    "'Mitjans Carles Cantero, Malavika Vasist',\n",
    "'Océane Rumfels, Nicolas Wlasowski',\n",
    "'Renaud Vandeghen, Antoine Cajot',\n",
    "'Leyla Damoisaux-Delnoy, Myriam Menouer',\n",
    "'Audrey Lempereur, Olivier Moitroux',\n",
    "'Maxime Quesnel, Thomas Vieslet',\n",
    "'Dimitri Marchand, Pierre Hockers',\n",
    "]"
   ]
  },
  {
   "cell_type": "code",
   "execution_count": 16,
   "metadata": {},
   "outputs": [
    {
     "name": "stdout",
     "output_type": "stream",
     "text": [
      "Robin Libert, Champagne Loïc\n",
      "--> Xie et al, \"Self-training with Noisy Student improves ImageNet classification\", 2019.\n",
      "\n",
      "Benjamin Delvoye, Joachim Paquay\n",
      "--> Chen et al, \"Neural Ordinary Differential Equations\", 2018.\n",
      "\n",
      "Nora Folon, Arian Tahiraj\n",
      "--> Tianqi Chen et al. \"XGBoost: a scalable Tree Boosting System\", 2016.\n",
      "\n",
      "Yann Claes, Gaspard Lambrechts\n",
      "--> Louizos et al, \"The Functional Neural Process\", 2019.\n",
      "\n",
      "Bardhyl Miftari, Philippe Schneider\n",
      "--> Jaderberg et al, \"Human-level performance in 3D multiplayer games with population-based reinforcement learning\", 2019.\n",
      "\n",
      "Mohamed EL Faiz, Robin Paul Römer\n",
      "--> Balaji Lakshminarayanan et al., \"Mondrian forests: efficient online random forests\", 2014.\n",
      "\n",
      "Bilel Guetarni, Nicolas Thou\n",
      "--> LG Valiant, \"A theory of the learnable\", 1984.\n",
      "\n",
      "Mitjans Carles Cantero, Malavika Vasist\n",
      "--> Liang, S., Li, Y., & Srikant, R, \"Enhancing the reliability of out-of-distribution image detection in neural networks\", 2018.\n",
      "\n",
      "Océane Rumfels, Nicolas Wlasowski\n",
      "--> Adiwardana et al, \"Towards a Human-like Open-Domain Chatbot\", 2020.\n",
      "\n",
      "Renaud Vandeghen, Antoine Cajot\n",
      "--> Bengio et al, \"A Meta-Transfer Objective for Learning to Disentangle Causal Mechanisms\", 2019\n",
      "\n",
      "Leyla Damoisaux-Delnoy, Myriam Menouer\n",
      "--> Lipton, \"The Mythos of Model Interpretability\", 2016.\n",
      "\n",
      "Audrey Lempereur, Olivier Moitroux\n",
      "--> Kosiorek et al, \"Stacked Capsule Autoencoders\", 2019.\n",
      "\n",
      "Maxime Quesnel, Thomas Vieslet\n",
      "--> Tero Karras et al, \"Analyzing and Improving the Image Quality of StyleGAN\", 2019.\n",
      "\n",
      "Dimitri Marchand, Pierre Hockers\n",
      "--> Bobak Shahriari et al, \"Taking the human out of the loop bayesian optimization\", 2016.\n",
      "\n"
     ]
    }
   ],
   "source": [
    "import numpy as np\n",
    "np.random.seed(4224)\n",
    "\n",
    "permutation = np.random.permutation(len(papers))\n",
    "for g, t in zip(groups, permutation):\n",
    "    print(g) \n",
    "    print(\"-->\", papers[t])\n",
    "    print()"
   ]
  },
  {
   "cell_type": "code",
   "execution_count": 17,
   "metadata": {},
   "outputs": [
    {
     "name": "stdout",
     "output_type": "stream",
     "text": [
      "Hendrycks, D., & Gimpel, K., \"A baseline for detecting misclassified and out-of-distribution examples in neural networks\", 2017.\n",
      "Sturmfels et al, \"Visualizing the Impact of Feature Attribution Baselines\", 2020.\n",
      "Scholkopf, \"Causality for Machine Learning\", 2019.\n",
      "Breiman, \"Statistical modeling: the Two Cultures\", 2001.\n",
      "Carter et al, \"Exploring Neural Networks with Activation Atlases\", 2019.\n",
      "AM Saxe et al, \"On the Information Bottleneck Theory of Deep Learning\", 2018.\n",
      "Yu et al, \"Playing the lottery with rewards and multiple languages: lottery tickets in RL and NLP\", 2019.\n",
      "Papamakarios et al, \"Sequential Neural Likelihood: Fast Likelihood-free Inference with Autoregressive Flows\", 2018.\n"
     ]
    }
   ],
   "source": [
    "# Unassigned papers\n",
    "for t in permutation[len(groups):]:\n",
    "    print(papers[t])"
   ]
  }
 ],
 "metadata": {
  "kernelspec": {
   "display_name": "Python 3",
   "language": "python",
   "name": "python3"
  },
  "language_info": {
   "codemirror_mode": {
    "name": "ipython",
    "version": 3
   },
   "file_extension": ".py",
   "mimetype": "text/x-python",
   "name": "python",
   "nbconvert_exporter": "python",
   "pygments_lexer": "ipython3",
   "version": "3.7.4"
  }
 },
 "nbformat": 4,
 "nbformat_minor": 2
}
